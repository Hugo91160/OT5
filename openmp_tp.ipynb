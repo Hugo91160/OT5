{
 "cells": [
  {
   "cell_type": "markdown",
   "metadata": {},
   "source": [
    "# TP OpenMP - October 2022\n",
    "## Part 1 : Pi\n",
    "### Compilation"
   ]
  },
  {
   "cell_type": "code",
   "execution_count": 40,
   "metadata": {},
   "outputs": [],
   "source": [
    "!g++ -o tp_openmp_part_1_pi_impl_reduce tp_openmp_part_1_pi_impl_reduce.cpp -fopenmp -O3 -march=native\n",
    "!g++ -o tp_openmp_part_1_pi_impl_atomic tp_openmp_part_1_pi_impl_atomic.cpp -fopenmp -O3 -march=native\n",
    "!g++ -o tp_openmp_part_1_pi_impl_critical tp_openmp_part_1_pi_impl_critical.cpp -fopenmp -O3 -march=native"
   ]
  },
  {
   "cell_type": "markdown",
   "metadata": {},
   "source": [
    "### Performance evaluation"
   ]
  },
  {
   "cell_type": "code",
   "execution_count": 41,
   "metadata": {},
   "outputs": [],
   "source": [
    "import os\n",
    "import subprocess\n",
    "import csv\n",
    "import pandas as pd\n",
    "import matplotlib\n",
    "import matplotlib.pyplot as plt\n",
    "\n",
    "try:\n",
    "    os.remove(\"pi_stats.csv\")\n",
    "except OSError:\n",
    "    pass\n",
    "\n",
    "# Creating the output csv file\n",
    "with open(\"pi_stats.csv\", \"w\") as stat_file:\n",
    "    writer = csv.writer(stat_file)\n",
    "\n",
    "num_steps = [10000, 1000000, 100000000]#, 1000000000000]\n",
    "nb_core = [1, 2, 4, 8]\n",
    "repeats = range(0,10)\n",
    "\n",
    "for nsteps in num_steps:\n",
    "    for ncore in nb_core:\n",
    "        for repeat in repeats:\n",
    "            args = (\"./tp_openmp_part_1_pi_impl_reduce\", \"-C\", str(ncore), \"-N\", str(nsteps))\n",
    "            popen = subprocess.Popen(args, stdout=subprocess.PIPE)\n",
    "            popen.wait()\n",
    "\n",
    "            args = (\"./tp_openmp_part_1_pi_impl_atomic\", \"-C\", str(ncore), \"-N\", str(nsteps))\n",
    "            popen = subprocess.Popen(args, stdout=subprocess.PIPE)\n",
    "            popen.wait()\n",
    "\n",
    "            args = (\"./tp_openmp_part_1_pi_impl_critical\", \"-C\", str(ncore), \"-N\", str(nsteps))\n",
    "            popen = subprocess.Popen(args, stdout=subprocess.PIPE)\n",
    "            popen.wait()\n",
    "\n",
    "\n",
    "\n"
   ]
  },
  {
   "cell_type": "markdown",
   "metadata": {},
   "source": [
    "### Performance analysis\n",
    "#### Weak scaling"
   ]
  },
  {
   "cell_type": "code",
   "execution_count": 46,
   "metadata": {},
   "outputs": [
    {
     "data": {
      "image/png": "[encoded data removed]",
      "text/plain": [
       "<Figure size 432x288 with 1 Axes>"
      ]
     },
     "metadata": {
      "needs_background": "light"
     },
     "output_type": "display_data"
    }
   ],
   "source": [
    "import matplotlib.pyplot as plt\n",
    "import numpy as np\n",
    "from numpy import genfromtxt\n",
    "\n",
    "import pandas as pd\n",
    "\n",
    "import warnings\n",
    "warnings.filterwarnings('ignore')\n",
    "\n",
    "df = pd.read_csv('pi_stats.csv',header=None,names=['version','nbcore','num_steps','runtime'],dtype={\n",
    "                     'version': str,\n",
    "                     'nbcore': int,\n",
    "                     'num_steps' : int,\n",
    "                     'runtime' : float\n",
    "                 })\n",
    "\n",
    "color_num_steps = {10000 : \"blue\", 1000000 : \"red\", 100000000 : \"green\"}\n",
    "\n",
    "for num_steps in df['num_steps']:\n",
    "    df_plot = df[(df['num_steps'] == int(num_steps))]\n",
    "    df_plot = df_plot[df_plot['version'] == \"atomic\"]\n",
    "    \n",
    "    mean_stats = df_plot.groupby(['num_steps','version','nbcore']).mean().reset_index()\n",
    "    \n",
    "    plt.plot(mean_stats['nbcore'], mean_stats['runtime'],linestyle=\"solid\",color=color_num_steps[num_steps], label='atomic')\n",
    "    plt.yscale('log')\n",
    "    plt.xscale('log')\n",
    "    plt.scatter(df_plot['nbcore'], df_plot['runtime'],color=color_num_steps[num_steps])\n",
    "\n",
    "    df_plot = df[(df['num_steps'] == num_steps) & (df['version'] == \"reduce\")]\n",
    "    mean_stats = df_plot.groupby(['num_steps','version','nbcore']).mean().reset_index()\n",
    "    \n",
    "    plt.plot(mean_stats['nbcore'], mean_stats['runtime'],linestyle=\"dashed\",color=color_num_steps[num_steps], label='reduce')\n",
    "    plt.yscale('log')\n",
    "    plt.xscale('log')\n",
    "    plt.scatter(df_plot['nbcore'], df_plot['runtime'],color=color_num_steps[num_steps])\n",
    "\n",
    "    df_plot = df[(df['num_steps'] == num_steps) & (df['version'] == \"critical\")]\n",
    "    mean_stats = df_plot.groupby(['num_steps','version','nbcore']).mean().reset_index()\n",
    "    \n",
    "    plt.plot(mean_stats['nbcore'], mean_stats['runtime'],linestyle=\"dotted\",color=color_num_steps[num_steps], label='critical')\n",
    "    plt.yscale('log')\n",
    "    plt.xscale('log')\n",
    "    plt.scatter(df_plot['nbcore'], df_plot['runtime'],color=color_num_steps[num_steps])\n",
    "    \n",
    "# TODO : make the legend correctly\n",
    "#plt.legend()\n",
    "plt.show()"
   ]
  },
  {
   "cell_type": "markdown",
   "metadata": {},
   "source": [
    "#### Strong Scaling"
   ]
  },
  {
   "cell_type": "code",
   "execution_count": null,
   "metadata": {},
   "outputs": [],
   "source": []
  },
  {
   "cell_type": "markdown",
   "metadata": {},
   "source": [
    "### Discussion"
   ]
  }
 ],
 "metadata": {
  "kernelspec": {
   "display_name": "Python 3",
   "language": "python",
   "name": "python3"
  },
  "language_info": {
   "codemirror_mode": {
    "name": "ipython",
    "version": 3
   },
   "file_extension": ".py",
   "mimetype": "text/x-python",
   "name": "python",
   "nbconvert_exporter": "python",
   "pygments_lexer": "ipython3",
   "version": "3.7.3"
  },
  "orig_nbformat": 4,
  "vscode": {
   "interpreter": {
    "hash": "31f2aee4e71d21fbe5cf8b01ff0e069b9275f58929596ceb00d14d90e3e16cd6"
   }
  }
 },
 "nbformat": 4,
 "nbformat_minor": 2
}
